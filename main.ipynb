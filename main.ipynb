{
 "cells": [
  {
   "cell_type": "markdown",
   "metadata": {},
   "source": [
    "NeuralChat is a customizable chat framework designed to create user own chatbot within few minutes on multiple architectures. This notebook is used to demonstrate how to build a talking chatbot on 4th Generation of Intel® Xeon® Scalable Processors Sapphire Rapids.\n",
    "\n",
    "The 4th Generation of Intel® Xeon® Scalable processor provides two instruction sets viz. AMX_BF16 and AMX_INT8 which provides acceleration for bfloat16 and int8 operations respectively."
   ]
  },
  {
   "cell_type": "markdown",
   "metadata": {},
   "source": [
    "# Prepare Environment"
   ]
  },
  {
   "cell_type": "markdown",
   "metadata": {},
   "source": [
    "Install intel extension for transformers:"
   ]
  },
  {
   "cell_type": "code",
   "execution_count": 2,
   "metadata": {},
   "outputs": [
    {
     "name": "stdout",
     "output_type": "stream",
     "text": [
      "Defaulting to user installation because normal site-packages is not writeable\n",
      "Collecting intel-extension-for-transformers\n",
      "  Downloading intel_extension_for_transformers-1.4.2-cp39-cp39-manylinux_2_28_x86_64.whl.metadata (26 kB)\n",
      "Requirement already satisfied: packaging in /opt/intel/oneapi/intelpython/lib/python3.9/site-packages (from intel-extension-for-transformers) (23.2)\n",
      "Requirement already satisfied: numpy in /opt/intel/oneapi/intelpython/lib/python3.9/site-packages (from intel-extension-for-transformers) (1.26.4)\n",
      "Collecting schema (from intel-extension-for-transformers)\n",
      "  Downloading schema-0.7.7-py2.py3-none-any.whl.metadata (34 kB)\n",
      "Requirement already satisfied: pyyaml in /opt/intel/oneapi/intelpython/lib/python3.9/site-packages (from intel-extension-for-transformers) (6.0.1)\n",
      "Collecting neural-compressor (from intel-extension-for-transformers)\n",
      "  Downloading neural_compressor-2.5.1-py3-none-any.whl.metadata (15 kB)\n",
      "Requirement already satisfied: transformers in /home/u79bece8b01d17b507a6b09a7919d56b/.local/lib/python3.9/site-packages (from intel-extension-for-transformers) (4.34.0)\n",
      "Collecting deprecated>=1.2.13 (from neural-compressor->intel-extension-for-transformers)\n",
      "  Downloading Deprecated-1.2.14-py2.py3-none-any.whl.metadata (5.4 kB)\n",
      "Collecting opencv-python-headless (from neural-compressor->intel-extension-for-transformers)\n",
      "  Downloading opencv_python_headless-4.10.0.82-cp37-abi3-manylinux_2_17_x86_64.manylinux2014_x86_64.whl.metadata (20 kB)\n",
      "Requirement already satisfied: pandas in /home/u79bece8b01d17b507a6b09a7919d56b/.local/lib/python3.9/site-packages (from neural-compressor->intel-extension-for-transformers) (1.3.5)\n",
      "Requirement already satisfied: Pillow in /opt/intel/oneapi/intelpython/lib/python3.9/site-packages (from neural-compressor->intel-extension-for-transformers) (10.2.0)\n",
      "Collecting prettytable (from neural-compressor->intel-extension-for-transformers)\n",
      "  Downloading prettytable-3.10.0-py3-none-any.whl.metadata (30 kB)\n",
      "Requirement already satisfied: psutil in /opt/intel/oneapi/intelpython/lib/python3.9/site-packages (from neural-compressor->intel-extension-for-transformers) (5.9.8)\n",
      "Requirement already satisfied: py-cpuinfo in /home/u79bece8b01d17b507a6b09a7919d56b/.local/lib/python3.9/site-packages (from neural-compressor->intel-extension-for-transformers) (9.0.0)\n",
      "Requirement already satisfied: requests in /opt/intel/oneapi/intelpython/lib/python3.9/site-packages (from neural-compressor->intel-extension-for-transformers) (2.31.0)\n",
      "Requirement already satisfied: scikit-learn in /home/u79bece8b01d17b507a6b09a7919d56b/.local/lib/python3.9/site-packages (from neural-compressor->intel-extension-for-transformers) (1.0.2)\n",
      "Collecting pycocotools (from neural-compressor->intel-extension-for-transformers)\n",
      "  Downloading pycocotools-2.0.7-cp39-cp39-manylinux_2_17_x86_64.manylinux2014_x86_64.whl.metadata (1.1 kB)\n",
      "Requirement already satisfied: filelock in /home/u79bece8b01d17b507a6b09a7919d56b/.local/lib/python3.9/site-packages (from transformers->intel-extension-for-transformers) (3.14.0)\n",
      "Requirement already satisfied: huggingface-hub<1.0,>=0.16.4 in /home/u79bece8b01d17b507a6b09a7919d56b/.local/lib/python3.9/site-packages (from transformers->intel-extension-for-transformers) (0.17.3)\n",
      "Requirement already satisfied: regex!=2019.12.17 in /home/u79bece8b01d17b507a6b09a7919d56b/.local/lib/python3.9/site-packages (from transformers->intel-extension-for-transformers) (2024.5.15)\n",
      "Requirement already satisfied: tokenizers<0.15,>=0.14 in /home/u79bece8b01d17b507a6b09a7919d56b/.local/lib/python3.9/site-packages (from transformers->intel-extension-for-transformers) (0.14.1)\n",
      "Requirement already satisfied: safetensors>=0.3.1 in /home/u79bece8b01d17b507a6b09a7919d56b/.local/lib/python3.9/site-packages (from transformers->intel-extension-for-transformers) (0.4.3)\n",
      "Requirement already satisfied: tqdm>=4.27 in /opt/intel/oneapi/intelpython/lib/python3.9/site-packages (from transformers->intel-extension-for-transformers) (4.66.2)\n",
      "Collecting wrapt<2,>=1.10 (from deprecated>=1.2.13->neural-compressor->intel-extension-for-transformers)\n",
      "  Downloading wrapt-1.16.0-cp39-cp39-manylinux_2_5_x86_64.manylinux1_x86_64.manylinux_2_17_x86_64.manylinux2014_x86_64.whl.metadata (6.6 kB)\n",
      "Requirement already satisfied: fsspec in /home/u79bece8b01d17b507a6b09a7919d56b/.local/lib/python3.9/site-packages (from huggingface-hub<1.0,>=0.16.4->transformers->intel-extension-for-transformers) (2023.10.0)\n",
      "Requirement already satisfied: typing-extensions>=3.7.4.3 in /opt/intel/oneapi/intelpython/lib/python3.9/site-packages (from huggingface-hub<1.0,>=0.16.4->transformers->intel-extension-for-transformers) (4.9.0)\n",
      "Requirement already satisfied: python-dateutil>=2.7.3 in /opt/intel/oneapi/intelpython/lib/python3.9/site-packages (from pandas->neural-compressor->intel-extension-for-transformers) (2.8.2)\n",
      "Requirement already satisfied: pytz>=2017.3 in /opt/intel/oneapi/intelpython/lib/python3.9/site-packages (from pandas->neural-compressor->intel-extension-for-transformers) (2024.1)\n",
      "Requirement already satisfied: wcwidth in /opt/intel/oneapi/intelpython/lib/python3.9/site-packages (from prettytable->neural-compressor->intel-extension-for-transformers) (0.2.13)\n",
      "Requirement already satisfied: matplotlib>=2.1.0 in /opt/intel/oneapi/intelpython/lib/python3.9/site-packages (from pycocotools->neural-compressor->intel-extension-for-transformers) (3.8.2)\n",
      "Requirement already satisfied: charset-normalizer<4,>=2 in /opt/intel/oneapi/intelpython/lib/python3.9/site-packages (from requests->neural-compressor->intel-extension-for-transformers) (3.3.2)\n",
      "Requirement already satisfied: idna<4,>=2.5 in /opt/intel/oneapi/intelpython/lib/python3.9/site-packages (from requests->neural-compressor->intel-extension-for-transformers) (3.6)\n",
      "Requirement already satisfied: urllib3<3,>=1.21.1 in /opt/intel/oneapi/intelpython/lib/python3.9/site-packages (from requests->neural-compressor->intel-extension-for-transformers) (2.2.1)\n",
      "Requirement already satisfied: certifi>=2017.4.17 in /opt/intel/oneapi/intelpython/lib/python3.9/site-packages (from requests->neural-compressor->intel-extension-for-transformers) (2024.2.2)\n",
      "Requirement already satisfied: scipy>=1.1.0 in /home/u79bece8b01d17b507a6b09a7919d56b/.local/lib/python3.9/site-packages (from scikit-learn->neural-compressor->intel-extension-for-transformers) (1.12.0)\n",
      "Requirement already satisfied: joblib>=0.11 in /opt/intel/oneapi/intelpython/lib/python3.9/site-packages (from scikit-learn->neural-compressor->intel-extension-for-transformers) (1.3.2)\n",
      "Requirement already satisfied: threadpoolctl>=2.0.0 in /opt/intel/oneapi/intelpython/lib/python3.9/site-packages (from scikit-learn->neural-compressor->intel-extension-for-transformers) (3.3.0)\n",
      "Requirement already satisfied: contourpy>=1.0.1 in /opt/intel/oneapi/intelpython/lib/python3.9/site-packages (from matplotlib>=2.1.0->pycocotools->neural-compressor->intel-extension-for-transformers) (1.2.0)\n",
      "Requirement already satisfied: cycler>=0.10 in /opt/intel/oneapi/intelpython/lib/python3.9/site-packages (from matplotlib>=2.1.0->pycocotools->neural-compressor->intel-extension-for-transformers) (0.12.1)\n",
      "Requirement already satisfied: fonttools>=4.22.0 in /opt/intel/oneapi/intelpython/lib/python3.9/site-packages (from matplotlib>=2.1.0->pycocotools->neural-compressor->intel-extension-for-transformers) (4.47.2)\n",
      "Requirement already satisfied: kiwisolver>=1.3.1 in /opt/intel/oneapi/intelpython/lib/python3.9/site-packages (from matplotlib>=2.1.0->pycocotools->neural-compressor->intel-extension-for-transformers) (1.4.5)\n",
      "Requirement already satisfied: pyparsing>=2.3.1 in /opt/intel/oneapi/intelpython/lib/python3.9/site-packages (from matplotlib>=2.1.0->pycocotools->neural-compressor->intel-extension-for-transformers) (3.1.1)\n",
      "Requirement already satisfied: importlib-resources>=3.2.0 in /opt/intel/oneapi/intelpython/lib/python3.9/site-packages (from matplotlib>=2.1.0->pycocotools->neural-compressor->intel-extension-for-transformers) (6.1.1)\n",
      "Requirement already satisfied: six>=1.5 in /opt/intel/oneapi/intelpython/lib/python3.9/site-packages (from python-dateutil>=2.7.3->pandas->neural-compressor->intel-extension-for-transformers) (1.16.0)\n",
      "Requirement already satisfied: zipp>=3.1.0 in /opt/intel/oneapi/intelpython/lib/python3.9/site-packages (from importlib-resources>=3.2.0->matplotlib>=2.1.0->pycocotools->neural-compressor->intel-extension-for-transformers) (3.17.0)\n",
      "Downloading intel_extension_for_transformers-1.4.2-cp39-cp39-manylinux_2_28_x86_64.whl (45.3 MB)\n",
      "\u001b[2K   \u001b[90m━━━━━━━━━━━━━━━━━━━━━━━━━━━━━━━━━━━━━━━━\u001b[0m \u001b[32m45.3/45.3 MB\u001b[0m \u001b[31m33.5 MB/s\u001b[0m eta \u001b[36m0:00:00\u001b[0m00:01\u001b[0m00:01\u001b[0mm\n",
      "\u001b[?25hDownloading neural_compressor-2.5.1-py3-none-any.whl (1.5 MB)\n",
      "\u001b[2K   \u001b[90m━━━━━━━━━━━━━━━━━━━━━━━━━━━━━━━━━━━━━━━━\u001b[0m \u001b[32m1.5/1.5 MB\u001b[0m \u001b[31m64.8 MB/s\u001b[0m eta \u001b[36m0:00:00\u001b[0m\n",
      "\u001b[?25hDownloading schema-0.7.7-py2.py3-none-any.whl (18 kB)\n",
      "Downloading Deprecated-1.2.14-py2.py3-none-any.whl (9.6 kB)\n",
      "Downloading opencv_python_headless-4.10.0.82-cp37-abi3-manylinux_2_17_x86_64.manylinux2014_x86_64.whl (49.9 MB)\n",
      "\u001b[2K   \u001b[90m━━━━━━━━━━━━━━━━━━━━━━━━━━━━━━━━━━━━━━━━\u001b[0m \u001b[32m49.9/49.9 MB\u001b[0m \u001b[31m41.7 MB/s\u001b[0m eta \u001b[36m0:00:00\u001b[0m:00:01\u001b[0m00:01\u001b[0m\n",
      "\u001b[?25hDownloading prettytable-3.10.0-py3-none-any.whl (28 kB)\n",
      "Downloading pycocotools-2.0.7-cp39-cp39-manylinux_2_17_x86_64.manylinux2014_x86_64.whl (435 kB)\n",
      "\u001b[2K   \u001b[90m━━━━━━━━━━━━━━━━━━━━━━━━━━━━━━━━━━━━━━━━\u001b[0m \u001b[32m435.1/435.1 kB\u001b[0m \u001b[31m20.3 MB/s\u001b[0m eta \u001b[36m0:00:00\u001b[0m\n",
      "\u001b[?25hDownloading wrapt-1.16.0-cp39-cp39-manylinux_2_5_x86_64.manylinux1_x86_64.manylinux_2_17_x86_64.manylinux2014_x86_64.whl (80 kB)\n",
      "\u001b[2K   \u001b[90m━━━━━━━━━━━━━━━━━━━━━━━━━━━━━━━━━━━━━━━━\u001b[0m \u001b[32m80.1/80.1 kB\u001b[0m \u001b[31m6.2 MB/s\u001b[0m eta \u001b[36m0:00:00\u001b[0m\n",
      "\u001b[?25hInstalling collected packages: schema, wrapt, prettytable, opencv-python-headless, deprecated, pycocotools, neural-compressor, intel-extension-for-transformers\n",
      "\u001b[33m  WARNING: The scripts neural_engine, neuralchat, neuralchat_client and neuralchat_server are installed in '/home/u79bece8b01d17b507a6b09a7919d56b/.local/bin' which is not on PATH.\n",
      "  Consider adding this directory to PATH or, if you prefer to suppress this warning, use --no-warn-script-location.\u001b[0m\u001b[33m\n",
      "\u001b[0mSuccessfully installed deprecated-1.2.14 intel-extension-for-transformers-1.4.2 neural-compressor-2.5.1 opencv-python-headless-4.10.0.82 prettytable-3.10.0 pycocotools-2.0.7 schema-0.7.7 wrapt-1.16.0\n"
     ]
    }
   ],
   "source": [
    "!pip install intel-extension-for-transformers"
   ]
  },
  {
   "cell_type": "markdown",
   "metadata": {},
   "source": [
    "Install Requirements:"
   ]
  },
  {
   "cell_type": "code",
   "execution_count": 3,
   "metadata": {},
   "outputs": [
    {
     "name": "stdout",
     "output_type": "stream",
     "text": [
      "Cloning into 'intel-extension-for-transformers'...\n",
      "remote: Enumerating objects: 1666248, done.\u001b[K\n",
      "remote: Counting objects: 100% (100849/100849), done.\u001b[K\n",
      "remote: Compressing objects: 100% (9848/9848), done.\u001b[K\n",
      "remote: Total 1666248 (delta 53543), reused 99365 (delta 52308), pack-reused 1565399\u001b[K\n",
      "Receiving objects: 100% (1666248/1666248), 587.88 MiB | 35.73 MiB/s, done.\n",
      "Resolving deltas: 100% (889487/889487), done.\n",
      "Updating files: 100% (3283/3283), done.\n"
     ]
    }
   ],
   "source": [
    "!git clone https://github.com/intel/intel-extension-for-transformers.git"
   ]
  },
  {
   "cell_type": "code",
   "execution_count": 4,
   "metadata": {},
   "outputs": [
    {
     "name": "stdout",
     "output_type": "stream",
     "text": [
      "/home/u79bece8b01d17b507a6b09a7919d56b/Intel-Proj/intel-extension-for-transformers/intel_extension_for_transformers/neural_chat\n",
      "Defaulting to user installation because normal site-packages is not writeable\n",
      "Looking in indexes: https://pypi.org/simple, https://pytorch-extension.intel.com/release-whl/stable/cpu/us/\n",
      "Requirement already satisfied: accelerate==0.28.0 in /home/u79bece8b01d17b507a6b09a7919d56b/.local/lib/python3.9/site-packages (from -r requirements_cpu.txt (line 2)) (0.28.0)\n",
      "Requirement already satisfied: cchardet in /home/u79bece8b01d17b507a6b09a7919d56b/.local/lib/python3.9/site-packages (from -r requirements_cpu.txt (line 3)) (2.1.7)\n",
      "Requirement already satisfied: einops in /home/u79bece8b01d17b507a6b09a7919d56b/.local/lib/python3.9/site-packages (from -r requirements_cpu.txt (line 4)) (0.8.0)\n",
      "Requirement already satisfied: evaluate in /home/u79bece8b01d17b507a6b09a7919d56b/.local/lib/python3.9/site-packages (from -r requirements_cpu.txt (line 5)) (0.4.2)\n",
      "Requirement already satisfied: fastapi in /home/u79bece8b01d17b507a6b09a7919d56b/.local/lib/python3.9/site-packages (from -r requirements_cpu.txt (line 6)) (0.111.0)\n",
      "Requirement already satisfied: fschat==0.2.32 in /home/u79bece8b01d17b507a6b09a7919d56b/.local/lib/python3.9/site-packages (from -r requirements_cpu.txt (line 7)) (0.2.32)\n",
      "Requirement already satisfied: huggingface_hub in /home/u79bece8b01d17b507a6b09a7919d56b/.local/lib/python3.9/site-packages (from -r requirements_cpu.txt (line 8)) (0.23.3)\n",
      "Requirement already satisfied: intel_extension_for_pytorch==2.3.0 in /home/u79bece8b01d17b507a6b09a7919d56b/.local/lib/python3.9/site-packages (from -r requirements_cpu.txt (line 9)) (2.3.0+cpu)\n",
      "Requirement already satisfied: lm-eval in /home/u79bece8b01d17b507a6b09a7919d56b/.local/lib/python3.9/site-packages (from -r requirements_cpu.txt (line 10)) (0.4.2)\n",
      "Requirement already satisfied: neural-compressor in /home/u79bece8b01d17b507a6b09a7919d56b/.local/lib/python3.9/site-packages (from -r requirements_cpu.txt (line 11)) (2.5.1)\n",
      "Requirement already satisfied: neural_speed==1.0a0 in /home/u79bece8b01d17b507a6b09a7919d56b/.local/lib/python3.9/site-packages (from -r requirements_cpu.txt (line 12)) (1.0a0)\n",
      "Requirement already satisfied: numpy==1.23.5 in /home/u79bece8b01d17b507a6b09a7919d56b/.local/lib/python3.9/site-packages (from -r requirements_cpu.txt (line 13)) (1.23.5)\n",
      "Requirement already satisfied: oneccl_bind_pt in /home/u79bece8b01d17b507a6b09a7919d56b/.local/lib/python3.9/site-packages (from -r requirements_cpu.txt (line 14)) (2.3.0+cpu)\n",
      "Requirement already satisfied: optimum in /home/u79bece8b01d17b507a6b09a7919d56b/.local/lib/python3.9/site-packages (from -r requirements_cpu.txt (line 15)) (1.20.0)\n",
      "Requirement already satisfied: optimum-intel in /home/u79bece8b01d17b507a6b09a7919d56b/.local/lib/python3.9/site-packages (from -r requirements_cpu.txt (line 16)) (1.17.2)\n",
      "Requirement already satisfied: peft==0.6.2 in /home/u79bece8b01d17b507a6b09a7919d56b/.local/lib/python3.9/site-packages (from -r requirements_cpu.txt (line 17)) (0.6.2)\n",
      "Requirement already satisfied: pydantic==1.10.13 in /home/u79bece8b01d17b507a6b09a7919d56b/.local/lib/python3.9/site-packages (from -r requirements_cpu.txt (line 18)) (1.10.13)\n",
      "Requirement already satisfied: python-dotenv in /home/u79bece8b01d17b507a6b09a7919d56b/.local/lib/python3.9/site-packages (from -r requirements_cpu.txt (line 19)) (1.0.1)\n",
      "Requirement already satisfied: python-multipart in /home/u79bece8b01d17b507a6b09a7919d56b/.local/lib/python3.9/site-packages (from -r requirements_cpu.txt (line 20)) (0.0.9)\n",
      "Requirement already satisfied: rouge_score in /home/u79bece8b01d17b507a6b09a7919d56b/.local/lib/python3.9/site-packages (from -r requirements_cpu.txt (line 21)) (0.1.2)\n",
      "Requirement already satisfied: sacremoses in /home/u79bece8b01d17b507a6b09a7919d56b/.local/lib/python3.9/site-packages (from -r requirements_cpu.txt (line 22)) (0.1.1)\n",
      "Requirement already satisfied: shortuuid in /home/u79bece8b01d17b507a6b09a7919d56b/.local/lib/python3.9/site-packages (from -r requirements_cpu.txt (line 23)) (1.0.13)\n",
      "Requirement already satisfied: starlette in /home/u79bece8b01d17b507a6b09a7919d56b/.local/lib/python3.9/site-packages (from -r requirements_cpu.txt (line 24)) (0.37.2)\n",
      "Requirement already satisfied: tiktoken==0.4.0 in /home/u79bece8b01d17b507a6b09a7919d56b/.local/lib/python3.9/site-packages (from -r requirements_cpu.txt (line 25)) (0.4.0)\n",
      "Requirement already satisfied: torch==2.3.0 in /home/u79bece8b01d17b507a6b09a7919d56b/.local/lib/python3.9/site-packages (from -r requirements_cpu.txt (line 26)) (2.3.0)\n",
      "Requirement already satisfied: torchaudio==2.3.0 in /home/u79bece8b01d17b507a6b09a7919d56b/.local/lib/python3.9/site-packages (from -r requirements_cpu.txt (line 27)) (2.3.0)\n",
      "Requirement already satisfied: transformers>=4.35.2 in /home/u79bece8b01d17b507a6b09a7919d56b/.local/lib/python3.9/site-packages (from -r requirements_cpu.txt (line 28)) (4.41.2)\n",
      "Requirement already satisfied: transformers_stream_generator in /home/u79bece8b01d17b507a6b09a7919d56b/.local/lib/python3.9/site-packages (from -r requirements_cpu.txt (line 29)) (0.0.5)\n",
      "Requirement already satisfied: uvicorn in /home/u79bece8b01d17b507a6b09a7919d56b/.local/lib/python3.9/site-packages (from -r requirements_cpu.txt (line 30)) (0.30.1)\n",
      "Requirement already satisfied: yacs in /home/u79bece8b01d17b507a6b09a7919d56b/.local/lib/python3.9/site-packages (from -r requirements_cpu.txt (line 31)) (0.1.8)\n",
      "Requirement already satisfied: packaging>=20.0 in /opt/intel/oneapi/intelpython/lib/python3.9/site-packages (from accelerate==0.28.0->-r requirements_cpu.txt (line 2)) (23.2)\n",
      "Requirement already satisfied: psutil in /opt/intel/oneapi/intelpython/lib/python3.9/site-packages (from accelerate==0.28.0->-r requirements_cpu.txt (line 2)) (5.9.8)\n",
      "Requirement already satisfied: pyyaml in /opt/intel/oneapi/intelpython/lib/python3.9/site-packages (from accelerate==0.28.0->-r requirements_cpu.txt (line 2)) (6.0.1)\n",
      "Requirement already satisfied: safetensors>=0.3.1 in /home/u79bece8b01d17b507a6b09a7919d56b/.local/lib/python3.9/site-packages (from accelerate==0.28.0->-r requirements_cpu.txt (line 2)) (0.4.3)\n",
      "Requirement already satisfied: aiohttp in /home/u79bece8b01d17b507a6b09a7919d56b/.local/lib/python3.9/site-packages (from fschat==0.2.32->-r requirements_cpu.txt (line 7)) (3.9.5)\n",
      "Requirement already satisfied: httpx in /opt/intel/oneapi/intelpython/lib/python3.9/site-packages (from fschat==0.2.32->-r requirements_cpu.txt (line 7)) (0.27.0)\n",
      "Requirement already satisfied: markdown2[all] in /home/u79bece8b01d17b507a6b09a7919d56b/.local/lib/python3.9/site-packages (from fschat==0.2.32->-r requirements_cpu.txt (line 7)) (2.4.13)\n",
      "Requirement already satisfied: nh3 in /home/u79bece8b01d17b507a6b09a7919d56b/.local/lib/python3.9/site-packages (from fschat==0.2.32->-r requirements_cpu.txt (line 7)) (0.2.17)\n",
      "Requirement already satisfied: prompt-toolkit>=3.0.0 in /opt/intel/oneapi/intelpython/lib/python3.9/site-packages (from fschat==0.2.32->-r requirements_cpu.txt (line 7)) (3.0.42)\n",
      "Requirement already satisfied: requests in /home/u79bece8b01d17b507a6b09a7919d56b/.local/lib/python3.9/site-packages (from fschat==0.2.32->-r requirements_cpu.txt (line 7)) (2.32.3)\n",
      "Requirement already satisfied: rich>=10.0.0 in /home/u79bece8b01d17b507a6b09a7919d56b/.local/lib/python3.9/site-packages (from fschat==0.2.32->-r requirements_cpu.txt (line 7)) (13.7.1)\n",
      "Requirement already satisfied: tqdm in /opt/intel/oneapi/intelpython/lib/python3.9/site-packages (from peft==0.6.2->-r requirements_cpu.txt (line 17)) (4.66.2)\n",
      "Requirement already satisfied: typing-extensions>=4.2.0 in /opt/intel/oneapi/intelpython/lib/python3.9/site-packages (from pydantic==1.10.13->-r requirements_cpu.txt (line 18)) (4.9.0)\n",
      "Requirement already satisfied: regex>=2022.1.18 in /home/u79bece8b01d17b507a6b09a7919d56b/.local/lib/python3.9/site-packages (from tiktoken==0.4.0->-r requirements_cpu.txt (line 25)) (2024.5.15)\n",
      "Requirement already satisfied: filelock in /home/u79bece8b01d17b507a6b09a7919d56b/.local/lib/python3.9/site-packages (from torch==2.3.0->-r requirements_cpu.txt (line 26)) (3.14.0)\n",
      "Requirement already satisfied: sympy in /home/u79bece8b01d17b507a6b09a7919d56b/.local/lib/python3.9/site-packages (from torch==2.3.0->-r requirements_cpu.txt (line 26)) (1.12.1)\n",
      "Requirement already satisfied: networkx in /home/u79bece8b01d17b507a6b09a7919d56b/.local/lib/python3.9/site-packages (from torch==2.3.0->-r requirements_cpu.txt (line 26)) (3.2.1)\n",
      "Requirement already satisfied: jinja2 in /opt/intel/oneapi/intelpython/lib/python3.9/site-packages (from torch==2.3.0->-r requirements_cpu.txt (line 26)) (3.1.3)\n",
      "Requirement already satisfied: fsspec in /home/u79bece8b01d17b507a6b09a7919d56b/.local/lib/python3.9/site-packages (from torch==2.3.0->-r requirements_cpu.txt (line 26)) (2023.10.0)\n",
      "Requirement already satisfied: nvidia-cuda-nvrtc-cu12==12.1.105 in /home/u79bece8b01d17b507a6b09a7919d56b/.local/lib/python3.9/site-packages (from torch==2.3.0->-r requirements_cpu.txt (line 26)) (12.1.105)\n",
      "Requirement already satisfied: nvidia-cuda-runtime-cu12==12.1.105 in /home/u79bece8b01d17b507a6b09a7919d56b/.local/lib/python3.9/site-packages (from torch==2.3.0->-r requirements_cpu.txt (line 26)) (12.1.105)\n",
      "Requirement already satisfied: nvidia-cuda-cupti-cu12==12.1.105 in /home/u79bece8b01d17b507a6b09a7919d56b/.local/lib/python3.9/site-packages (from torch==2.3.0->-r requirements_cpu.txt (line 26)) (12.1.105)\n",
      "Requirement already satisfied: nvidia-cudnn-cu12==8.9.2.26 in /home/u79bece8b01d17b507a6b09a7919d56b/.local/lib/python3.9/site-packages (from torch==2.3.0->-r requirements_cpu.txt (line 26)) (8.9.2.26)\n",
      "Requirement already satisfied: nvidia-cublas-cu12==12.1.3.1 in /home/u79bece8b01d17b507a6b09a7919d56b/.local/lib/python3.9/site-packages (from torch==2.3.0->-r requirements_cpu.txt (line 26)) (12.1.3.1)\n",
      "Requirement already satisfied: nvidia-cufft-cu12==11.0.2.54 in /home/u79bece8b01d17b507a6b09a7919d56b/.local/lib/python3.9/site-packages (from torch==2.3.0->-r requirements_cpu.txt (line 26)) (11.0.2.54)\n",
      "Requirement already satisfied: nvidia-curand-cu12==10.3.2.106 in /home/u79bece8b01d17b507a6b09a7919d56b/.local/lib/python3.9/site-packages (from torch==2.3.0->-r requirements_cpu.txt (line 26)) (10.3.2.106)\n",
      "Requirement already satisfied: nvidia-cusolver-cu12==11.4.5.107 in /home/u79bece8b01d17b507a6b09a7919d56b/.local/lib/python3.9/site-packages (from torch==2.3.0->-r requirements_cpu.txt (line 26)) (11.4.5.107)\n",
      "Requirement already satisfied: nvidia-cusparse-cu12==12.1.0.106 in /home/u79bece8b01d17b507a6b09a7919d56b/.local/lib/python3.9/site-packages (from torch==2.3.0->-r requirements_cpu.txt (line 26)) (12.1.0.106)\n",
      "Requirement already satisfied: nvidia-nccl-cu12==2.20.5 in /home/u79bece8b01d17b507a6b09a7919d56b/.local/lib/python3.9/site-packages (from torch==2.3.0->-r requirements_cpu.txt (line 26)) (2.20.5)\n",
      "Requirement already satisfied: nvidia-nvtx-cu12==12.1.105 in /home/u79bece8b01d17b507a6b09a7919d56b/.local/lib/python3.9/site-packages (from torch==2.3.0->-r requirements_cpu.txt (line 26)) (12.1.105)\n",
      "Requirement already satisfied: triton==2.3.0 in /home/u79bece8b01d17b507a6b09a7919d56b/.local/lib/python3.9/site-packages (from torch==2.3.0->-r requirements_cpu.txt (line 26)) (2.3.0)\n",
      "Requirement already satisfied: nvidia-nvjitlink-cu12 in /home/u79bece8b01d17b507a6b09a7919d56b/.local/lib/python3.9/site-packages (from nvidia-cusolver-cu12==11.4.5.107->torch==2.3.0->-r requirements_cpu.txt (line 26)) (12.5.40)\n",
      "Requirement already satisfied: datasets>=2.0.0 in /home/u79bece8b01d17b507a6b09a7919d56b/.local/lib/python3.9/site-packages (from evaluate->-r requirements_cpu.txt (line 5)) (2.19.2)\n",
      "Requirement already satisfied: dill in /home/u79bece8b01d17b507a6b09a7919d56b/.local/lib/python3.9/site-packages (from evaluate->-r requirements_cpu.txt (line 5)) (0.3.7)\n",
      "Requirement already satisfied: pandas in /home/u79bece8b01d17b507a6b09a7919d56b/.local/lib/python3.9/site-packages (from evaluate->-r requirements_cpu.txt (line 5)) (1.3.5)\n",
      "Requirement already satisfied: xxhash in /home/u79bece8b01d17b507a6b09a7919d56b/.local/lib/python3.9/site-packages (from evaluate->-r requirements_cpu.txt (line 5)) (3.4.1)\n",
      "Requirement already satisfied: multiprocess in /home/u79bece8b01d17b507a6b09a7919d56b/.local/lib/python3.9/site-packages (from evaluate->-r requirements_cpu.txt (line 5)) (0.70.15)\n",
      "Requirement already satisfied: fastapi-cli>=0.0.2 in /home/u79bece8b01d17b507a6b09a7919d56b/.local/lib/python3.9/site-packages (from fastapi->-r requirements_cpu.txt (line 6)) (0.0.4)\n",
      "Requirement already satisfied: ujson!=4.0.2,!=4.1.0,!=4.2.0,!=4.3.0,!=5.0.0,!=5.1.0,>=4.0.1 in /home/u79bece8b01d17b507a6b09a7919d56b/.local/lib/python3.9/site-packages (from fastapi->-r requirements_cpu.txt (line 6)) (5.10.0)\n",
      "Requirement already satisfied: orjson>=3.2.1 in /home/u79bece8b01d17b507a6b09a7919d56b/.local/lib/python3.9/site-packages (from fastapi->-r requirements_cpu.txt (line 6)) (3.10.4)\n",
      "Requirement already satisfied: email_validator>=2.0.0 in /home/u79bece8b01d17b507a6b09a7919d56b/.local/lib/python3.9/site-packages (from fastapi->-r requirements_cpu.txt (line 6)) (2.1.1)\n",
      "Requirement already satisfied: jsonlines in /home/u79bece8b01d17b507a6b09a7919d56b/.local/lib/python3.9/site-packages (from lm-eval->-r requirements_cpu.txt (line 10)) (4.0.0)\n",
      "Requirement already satisfied: numexpr in /home/u79bece8b01d17b507a6b09a7919d56b/.local/lib/python3.9/site-packages (from lm-eval->-r requirements_cpu.txt (line 10)) (2.10.0)\n",
      "Requirement already satisfied: pybind11>=2.6.2 in /home/u79bece8b01d17b507a6b09a7919d56b/.local/lib/python3.9/site-packages (from lm-eval->-r requirements_cpu.txt (line 10)) (2.12.0)\n",
      "Requirement already satisfied: pytablewriter in /home/u79bece8b01d17b507a6b09a7919d56b/.local/lib/python3.9/site-packages (from lm-eval->-r requirements_cpu.txt (line 10)) (1.2.0)\n",
      "Requirement already satisfied: sacrebleu>=1.5.0 in /home/u79bece8b01d17b507a6b09a7919d56b/.local/lib/python3.9/site-packages (from lm-eval->-r requirements_cpu.txt (line 10)) (2.4.2)\n",
      "Requirement already satisfied: scikit-learn>=0.24.1 in /home/u79bece8b01d17b507a6b09a7919d56b/.local/lib/python3.9/site-packages (from lm-eval->-r requirements_cpu.txt (line 10)) (1.0.2)\n",
      "Requirement already satisfied: sqlitedict in /home/u79bece8b01d17b507a6b09a7919d56b/.local/lib/python3.9/site-packages (from lm-eval->-r requirements_cpu.txt (line 10)) (2.1.0)\n",
      "Requirement already satisfied: tqdm-multiprocess in /home/u79bece8b01d17b507a6b09a7919d56b/.local/lib/python3.9/site-packages (from lm-eval->-r requirements_cpu.txt (line 10)) (0.0.11)\n",
      "Requirement already satisfied: zstandard in /opt/intel/oneapi/intelpython/lib/python3.9/site-packages (from lm-eval->-r requirements_cpu.txt (line 10)) (0.22.0)\n",
      "Requirement already satisfied: word2number in /home/u79bece8b01d17b507a6b09a7919d56b/.local/lib/python3.9/site-packages (from lm-eval->-r requirements_cpu.txt (line 10)) (1.1)\n",
      "Requirement already satisfied: more-itertools in /home/u79bece8b01d17b507a6b09a7919d56b/.local/lib/python3.9/site-packages (from lm-eval->-r requirements_cpu.txt (line 10)) (10.3.0)\n",
      "Requirement already satisfied: deprecated>=1.2.13 in /home/u79bece8b01d17b507a6b09a7919d56b/.local/lib/python3.9/site-packages (from neural-compressor->-r requirements_cpu.txt (line 11)) (1.2.14)\n",
      "Requirement already satisfied: opencv-python-headless in /home/u79bece8b01d17b507a6b09a7919d56b/.local/lib/python3.9/site-packages (from neural-compressor->-r requirements_cpu.txt (line 11)) (4.10.0.82)\n",
      "Requirement already satisfied: Pillow in /opt/intel/oneapi/intelpython/lib/python3.9/site-packages (from neural-compressor->-r requirements_cpu.txt (line 11)) (10.2.0)\n",
      "Requirement already satisfied: prettytable in /home/u79bece8b01d17b507a6b09a7919d56b/.local/lib/python3.9/site-packages (from neural-compressor->-r requirements_cpu.txt (line 11)) (3.10.0)\n",
      "Requirement already satisfied: py-cpuinfo in /home/u79bece8b01d17b507a6b09a7919d56b/.local/lib/python3.9/site-packages (from neural-compressor->-r requirements_cpu.txt (line 11)) (9.0.0)\n",
      "Requirement already satisfied: schema in /home/u79bece8b01d17b507a6b09a7919d56b/.local/lib/python3.9/site-packages (from neural-compressor->-r requirements_cpu.txt (line 11)) (0.7.7)\n",
      "Requirement already satisfied: pycocotools in /home/u79bece8b01d17b507a6b09a7919d56b/.local/lib/python3.9/site-packages (from neural-compressor->-r requirements_cpu.txt (line 11)) (2.0.7)\n",
      "Requirement already satisfied: coloredlogs in /home/u79bece8b01d17b507a6b09a7919d56b/.local/lib/python3.9/site-packages (from optimum->-r requirements_cpu.txt (line 15)) (15.0.1)\n",
      "Requirement already satisfied: sentencepiece in /home/u79bece8b01d17b507a6b09a7919d56b/.local/lib/python3.9/site-packages (from optimum-intel->-r requirements_cpu.txt (line 16)) (0.2.0)\n",
      "Requirement already satisfied: setuptools in /home/u79bece8b01d17b507a6b09a7919d56b/.local/lib/python3.9/site-packages (from optimum-intel->-r requirements_cpu.txt (line 16)) (65.7.0)\n",
      "Requirement already satisfied: scipy in /home/u79bece8b01d17b507a6b09a7919d56b/.local/lib/python3.9/site-packages (from optimum-intel->-r requirements_cpu.txt (line 16)) (1.12.0)\n",
      "Requirement already satisfied: onnx in /home/u79bece8b01d17b507a6b09a7919d56b/.local/lib/python3.9/site-packages (from optimum-intel->-r requirements_cpu.txt (line 16)) (1.16.1)\n",
      "Requirement already satisfied: absl-py in /home/u79bece8b01d17b507a6b09a7919d56b/.local/lib/python3.9/site-packages (from rouge_score->-r requirements_cpu.txt (line 21)) (2.1.0)\n",
      "Requirement already satisfied: nltk in /home/u79bece8b01d17b507a6b09a7919d56b/.local/lib/python3.9/site-packages (from rouge_score->-r requirements_cpu.txt (line 21)) (3.8.1)\n",
      "Requirement already satisfied: six>=1.14.0 in /opt/intel/oneapi/intelpython/lib/python3.9/site-packages (from rouge_score->-r requirements_cpu.txt (line 21)) (1.16.0)\n",
      "Requirement already satisfied: click in /home/u79bece8b01d17b507a6b09a7919d56b/.local/lib/python3.9/site-packages (from sacremoses->-r requirements_cpu.txt (line 22)) (8.1.7)\n",
      "Requirement already satisfied: joblib in /opt/intel/oneapi/intelpython/lib/python3.9/site-packages (from sacremoses->-r requirements_cpu.txt (line 22)) (1.3.2)\n",
      "Requirement already satisfied: anyio<5,>=3.4.0 in /opt/intel/oneapi/intelpython/lib/python3.9/site-packages (from starlette->-r requirements_cpu.txt (line 24)) (4.3.0)\n",
      "Requirement already satisfied: tokenizers<0.20,>=0.19 in /home/u79bece8b01d17b507a6b09a7919d56b/.local/lib/python3.9/site-packages (from transformers>=4.35.2->-r requirements_cpu.txt (line 28)) (0.19.1)\n",
      "Requirement already satisfied: h11>=0.8 in /opt/intel/oneapi/intelpython/lib/python3.9/site-packages (from uvicorn->-r requirements_cpu.txt (line 30)) (0.14.0)\n",
      "Requirement already satisfied: idna>=2.8 in /opt/intel/oneapi/intelpython/lib/python3.9/site-packages (from anyio<5,>=3.4.0->starlette->-r requirements_cpu.txt (line 24)) (3.6)\n",
      "Requirement already satisfied: sniffio>=1.1 in /opt/intel/oneapi/intelpython/lib/python3.9/site-packages (from anyio<5,>=3.4.0->starlette->-r requirements_cpu.txt (line 24)) (1.3.1)\n",
      "Requirement already satisfied: exceptiongroup>=1.0.2 in /opt/intel/oneapi/intelpython/lib/python3.9/site-packages (from anyio<5,>=3.4.0->starlette->-r requirements_cpu.txt (line 24)) (1.2.0)\n",
      "Requirement already satisfied: pyarrow>=12.0.0 in /home/u79bece8b01d17b507a6b09a7919d56b/.local/lib/python3.9/site-packages (from datasets>=2.0.0->evaluate->-r requirements_cpu.txt (line 5)) (16.1.0)\n",
      "Requirement already satisfied: pyarrow-hotfix in /home/u79bece8b01d17b507a6b09a7919d56b/.local/lib/python3.9/site-packages (from datasets>=2.0.0->evaluate->-r requirements_cpu.txt (line 5)) (0.6)\n",
      "Requirement already satisfied: wrapt<2,>=1.10 in /home/u79bece8b01d17b507a6b09a7919d56b/.local/lib/python3.9/site-packages (from deprecated>=1.2.13->neural-compressor->-r requirements_cpu.txt (line 11)) (1.16.0)\n",
      "Requirement already satisfied: dnspython>=2.0.0 in /home/u79bece8b01d17b507a6b09a7919d56b/.local/lib/python3.9/site-packages (from email_validator>=2.0.0->fastapi->-r requirements_cpu.txt (line 6)) (2.6.1)\n",
      "Requirement already satisfied: typer>=0.12.3 in /home/u79bece8b01d17b507a6b09a7919d56b/.local/lib/python3.9/site-packages (from fastapi-cli>=0.0.2->fastapi->-r requirements_cpu.txt (line 6)) (0.12.3)\n",
      "Requirement already satisfied: aiosignal>=1.1.2 in /home/u79bece8b01d17b507a6b09a7919d56b/.local/lib/python3.9/site-packages (from aiohttp->fschat==0.2.32->-r requirements_cpu.txt (line 7)) (1.3.1)\n",
      "Requirement already satisfied: attrs>=17.3.0 in /home/u79bece8b01d17b507a6b09a7919d56b/.local/lib/python3.9/site-packages (from aiohttp->fschat==0.2.32->-r requirements_cpu.txt (line 7)) (23.2.0)\n",
      "Requirement already satisfied: frozenlist>=1.1.1 in /home/u79bece8b01d17b507a6b09a7919d56b/.local/lib/python3.9/site-packages (from aiohttp->fschat==0.2.32->-r requirements_cpu.txt (line 7)) (1.4.1)\n",
      "Requirement already satisfied: multidict<7.0,>=4.5 in /home/u79bece8b01d17b507a6b09a7919d56b/.local/lib/python3.9/site-packages (from aiohttp->fschat==0.2.32->-r requirements_cpu.txt (line 7)) (6.0.5)\n",
      "Requirement already satisfied: yarl<2.0,>=1.0 in /home/u79bece8b01d17b507a6b09a7919d56b/.local/lib/python3.9/site-packages (from aiohttp->fschat==0.2.32->-r requirements_cpu.txt (line 7)) (1.9.4)\n",
      "Requirement already satisfied: async-timeout<5.0,>=4.0 in /home/u79bece8b01d17b507a6b09a7919d56b/.local/lib/python3.9/site-packages (from aiohttp->fschat==0.2.32->-r requirements_cpu.txt (line 7)) (4.0.3)\n",
      "Requirement already satisfied: certifi in /opt/intel/oneapi/intelpython/lib/python3.9/site-packages (from httpx->fschat==0.2.32->-r requirements_cpu.txt (line 7)) (2024.2.2)\n",
      "Requirement already satisfied: httpcore==1.* in /opt/intel/oneapi/intelpython/lib/python3.9/site-packages (from httpx->fschat==0.2.32->-r requirements_cpu.txt (line 7)) (1.0.4)\n",
      "Requirement already satisfied: MarkupSafe>=2.0 in /opt/intel/oneapi/intelpython/lib/python3.9/site-packages (from jinja2->torch==2.3.0->-r requirements_cpu.txt (line 26)) (2.1.4)\n",
      "Requirement already satisfied: wcwidth in /opt/intel/oneapi/intelpython/lib/python3.9/site-packages (from prompt-toolkit>=3.0.0->fschat==0.2.32->-r requirements_cpu.txt (line 7)) (0.2.13)\n",
      "Requirement already satisfied: charset-normalizer<4,>=2 in /opt/intel/oneapi/intelpython/lib/python3.9/site-packages (from requests->fschat==0.2.32->-r requirements_cpu.txt (line 7)) (3.3.2)\n",
      "Requirement already satisfied: urllib3<3,>=1.21.1 in /opt/intel/oneapi/intelpython/lib/python3.9/site-packages (from requests->fschat==0.2.32->-r requirements_cpu.txt (line 7)) (2.2.1)\n",
      "Requirement already satisfied: markdown-it-py>=2.2.0 in /home/u79bece8b01d17b507a6b09a7919d56b/.local/lib/python3.9/site-packages (from rich>=10.0.0->fschat==0.2.32->-r requirements_cpu.txt (line 7)) (3.0.0)\n",
      "Requirement already satisfied: pygments<3.0.0,>=2.13.0 in /opt/intel/oneapi/intelpython/lib/python3.9/site-packages (from rich>=10.0.0->fschat==0.2.32->-r requirements_cpu.txt (line 7)) (2.17.2)\n",
      "Requirement already satisfied: portalocker in /home/u79bece8b01d17b507a6b09a7919d56b/.local/lib/python3.9/site-packages (from sacrebleu>=1.5.0->lm-eval->-r requirements_cpu.txt (line 10)) (2.8.2)\n",
      "Requirement already satisfied: tabulate>=0.8.9 in /home/u79bece8b01d17b507a6b09a7919d56b/.local/lib/python3.9/site-packages (from sacrebleu>=1.5.0->lm-eval->-r requirements_cpu.txt (line 10)) (0.9.0)\n",
      "Requirement already satisfied: colorama in /opt/intel/oneapi/intelpython/lib/python3.9/site-packages (from sacrebleu>=1.5.0->lm-eval->-r requirements_cpu.txt (line 10)) (0.4.6)\n",
      "Requirement already satisfied: lxml in /home/u79bece8b01d17b507a6b09a7919d56b/.local/lib/python3.9/site-packages (from sacrebleu>=1.5.0->lm-eval->-r requirements_cpu.txt (line 10)) (5.2.2)\n",
      "Requirement already satisfied: threadpoolctl>=2.0.0 in /opt/intel/oneapi/intelpython/lib/python3.9/site-packages (from scikit-learn>=0.24.1->lm-eval->-r requirements_cpu.txt (line 10)) (3.3.0)\n",
      "Requirement already satisfied: protobuf in /home/u79bece8b01d17b507a6b09a7919d56b/.local/lib/python3.9/site-packages (from transformers[sentencepiece]<4.42.0,>=4.26.0->optimum->-r requirements_cpu.txt (line 15)) (5.27.1)\n",
      "Requirement already satisfied: httptools>=0.5.0 in /home/u79bece8b01d17b507a6b09a7919d56b/.local/lib/python3.9/site-packages (from uvicorn[standard]>=0.12.0->fastapi->-r requirements_cpu.txt (line 6)) (0.6.1)\n",
      "Requirement already satisfied: uvloop!=0.15.0,!=0.15.1,>=0.14.0 in /home/u79bece8b01d17b507a6b09a7919d56b/.local/lib/python3.9/site-packages (from uvicorn[standard]>=0.12.0->fastapi->-r requirements_cpu.txt (line 6)) (0.19.0)\n",
      "Requirement already satisfied: watchfiles>=0.13 in /home/u79bece8b01d17b507a6b09a7919d56b/.local/lib/python3.9/site-packages (from uvicorn[standard]>=0.12.0->fastapi->-r requirements_cpu.txt (line 6)) (0.22.0)\n",
      "Requirement already satisfied: websockets>=10.4 in /home/u79bece8b01d17b507a6b09a7919d56b/.local/lib/python3.9/site-packages (from uvicorn[standard]>=0.12.0->fastapi->-r requirements_cpu.txt (line 6)) (12.0)\n",
      "Requirement already satisfied: humanfriendly>=9.1 in /home/u79bece8b01d17b507a6b09a7919d56b/.local/lib/python3.9/site-packages (from coloredlogs->optimum->-r requirements_cpu.txt (line 15)) (10.0)\n",
      "Requirement already satisfied: wavedrom in /home/u79bece8b01d17b507a6b09a7919d56b/.local/lib/python3.9/site-packages (from markdown2[all]->fschat==0.2.32->-r requirements_cpu.txt (line 7)) (2.0.3.post3)\n",
      "Requirement already satisfied: python-dateutil>=2.7.3 in /opt/intel/oneapi/intelpython/lib/python3.9/site-packages (from pandas->evaluate->-r requirements_cpu.txt (line 5)) (2.8.2)\n",
      "Requirement already satisfied: pytz>=2017.3 in /opt/intel/oneapi/intelpython/lib/python3.9/site-packages (from pandas->evaluate->-r requirements_cpu.txt (line 5)) (2024.1)\n",
      "Requirement already satisfied: matplotlib>=2.1.0 in /opt/intel/oneapi/intelpython/lib/python3.9/site-packages (from pycocotools->neural-compressor->-r requirements_cpu.txt (line 11)) (3.8.2)\n",
      "Requirement already satisfied: DataProperty<2,>=1.0.1 in /home/u79bece8b01d17b507a6b09a7919d56b/.local/lib/python3.9/site-packages (from pytablewriter->lm-eval->-r requirements_cpu.txt (line 10)) (1.0.1)\n",
      "Requirement already satisfied: mbstrdecoder<2,>=1.0.0 in /home/u79bece8b01d17b507a6b09a7919d56b/.local/lib/python3.9/site-packages (from pytablewriter->lm-eval->-r requirements_cpu.txt (line 10)) (1.1.3)\n",
      "Requirement already satisfied: pathvalidate<4,>=2.3.0 in /home/u79bece8b01d17b507a6b09a7919d56b/.local/lib/python3.9/site-packages (from pytablewriter->lm-eval->-r requirements_cpu.txt (line 10)) (3.2.0)\n",
      "Requirement already satisfied: tabledata<2,>=1.3.1 in /home/u79bece8b01d17b507a6b09a7919d56b/.local/lib/python3.9/site-packages (from pytablewriter->lm-eval->-r requirements_cpu.txt (line 10)) (1.3.3)\n",
      "Requirement already satisfied: tcolorpy<1,>=0.0.5 in /home/u79bece8b01d17b507a6b09a7919d56b/.local/lib/python3.9/site-packages (from pytablewriter->lm-eval->-r requirements_cpu.txt (line 10)) (0.1.6)\n",
      "Requirement already satisfied: typepy<2,>=1.3.2 in /home/u79bece8b01d17b507a6b09a7919d56b/.local/lib/python3.9/site-packages (from typepy[datetime]<2,>=1.3.2->pytablewriter->lm-eval->-r requirements_cpu.txt (line 10)) (1.3.2)\n",
      "Requirement already satisfied: mpmath<1.4.0,>=1.1.0 in /home/u79bece8b01d17b507a6b09a7919d56b/.local/lib/python3.9/site-packages (from sympy->torch==2.3.0->-r requirements_cpu.txt (line 26)) (1.3.0)\n",
      "Requirement already satisfied: mdurl~=0.1 in /home/u79bece8b01d17b507a6b09a7919d56b/.local/lib/python3.9/site-packages (from markdown-it-py>=2.2.0->rich>=10.0.0->fschat==0.2.32->-r requirements_cpu.txt (line 7)) (0.1.2)\n",
      "Requirement already satisfied: contourpy>=1.0.1 in /opt/intel/oneapi/intelpython/lib/python3.9/site-packages (from matplotlib>=2.1.0->pycocotools->neural-compressor->-r requirements_cpu.txt (line 11)) (1.2.0)\n",
      "Requirement already satisfied: cycler>=0.10 in /opt/intel/oneapi/intelpython/lib/python3.9/site-packages (from matplotlib>=2.1.0->pycocotools->neural-compressor->-r requirements_cpu.txt (line 11)) (0.12.1)\n",
      "Requirement already satisfied: fonttools>=4.22.0 in /opt/intel/oneapi/intelpython/lib/python3.9/site-packages (from matplotlib>=2.1.0->pycocotools->neural-compressor->-r requirements_cpu.txt (line 11)) (4.47.2)\n",
      "Requirement already satisfied: kiwisolver>=1.3.1 in /opt/intel/oneapi/intelpython/lib/python3.9/site-packages (from matplotlib>=2.1.0->pycocotools->neural-compressor->-r requirements_cpu.txt (line 11)) (1.4.5)\n",
      "Requirement already satisfied: pyparsing>=2.3.1 in /opt/intel/oneapi/intelpython/lib/python3.9/site-packages (from matplotlib>=2.1.0->pycocotools->neural-compressor->-r requirements_cpu.txt (line 11)) (3.1.1)\n",
      "Requirement already satisfied: importlib-resources>=3.2.0 in /opt/intel/oneapi/intelpython/lib/python3.9/site-packages (from matplotlib>=2.1.0->pycocotools->neural-compressor->-r requirements_cpu.txt (line 11)) (6.1.1)\n",
      "Requirement already satisfied: chardet<6,>=3.0.4 in /home/u79bece8b01d17b507a6b09a7919d56b/.local/lib/python3.9/site-packages (from mbstrdecoder<2,>=1.0.0->pytablewriter->lm-eval->-r requirements_cpu.txt (line 10)) (5.2.0)\n",
      "Requirement already satisfied: shellingham>=1.3.0 in /home/u79bece8b01d17b507a6b09a7919d56b/.local/lib/python3.9/site-packages (from typer>=0.12.3->fastapi-cli>=0.0.2->fastapi->-r requirements_cpu.txt (line 6)) (1.5.4)\n",
      "Requirement already satisfied: svgwrite in /home/u79bece8b01d17b507a6b09a7919d56b/.local/lib/python3.9/site-packages (from wavedrom->markdown2[all]->fschat==0.2.32->-r requirements_cpu.txt (line 7)) (1.4.3)\n",
      "Requirement already satisfied: zipp>=3.1.0 in /opt/intel/oneapi/intelpython/lib/python3.9/site-packages (from importlib-resources>=3.2.0->matplotlib>=2.1.0->pycocotools->neural-compressor->-r requirements_cpu.txt (line 11)) (3.17.0)\n",
      "/home/u79bece8b01d17b507a6b09a7919d56b/Intel-Proj\n"
     ]
    }
   ],
   "source": [
    "%cd ./intel-extension-for-transformers/intel_extension_for_transformers/neural_chat/\n",
    "!pip install -r requirements_cpu.txt\n",
    "%cd ../../../"
   ]
  },
  {
   "cell_type": "markdown",
   "metadata": {},
   "source": [
    "# Build your chatbot 💻"
   ]
  },
  {
   "cell_type": "markdown",
   "metadata": {},
   "source": [
    "## Text Chat"
   ]
  },
  {
   "cell_type": "markdown",
   "metadata": {},
   "source": [
    "Giving NeuralChat the textual instruction, it will respond with the textual response."
   ]
  },
  {
   "cell_type": "code",
   "execution_count": 2,
   "metadata": {},
   "outputs": [
    {
     "name": "stdout",
     "output_type": "stream",
     "text": [
      "Defaulting to user installation because normal site-packages is not writeable\n",
      "Requirement already satisfied: anyio in /opt/intel/oneapi/intelpython/lib/python3.9/site-packages (4.3.0)\n",
      "Requirement already satisfied: idna>=2.8 in /opt/intel/oneapi/intelpython/lib/python3.9/site-packages (from anyio) (3.6)\n",
      "Requirement already satisfied: sniffio>=1.1 in /opt/intel/oneapi/intelpython/lib/python3.9/site-packages (from anyio) (1.3.1)\n",
      "Requirement already satisfied: exceptiongroup>=1.0.2 in /opt/intel/oneapi/intelpython/lib/python3.9/site-packages (from anyio) (1.2.0)\n",
      "Requirement already satisfied: typing-extensions>=4.1 in /opt/intel/oneapi/intelpython/lib/python3.9/site-packages (from anyio) (4.9.0)\n"
     ]
    }
   ],
   "source": [
    "!pip install anyio"
   ]
  },
  {
   "cell_type": "code",
   "execution_count": 1,
   "metadata": {},
   "outputs": [
    {
     "name": "stderr",
     "output_type": "stream",
     "text": [
      "/home/u79bece8b01d17b507a6b09a7919d56b/.local/lib/python3.9/site-packages/torchvision/io/image.py:13: UserWarning: Failed to load image Python extension: ''If you don't plan on using image functionality from `torchvision.io`, you can ignore this warning. Otherwise, there might be something wrong with your environment. Did you have `libjpeg` or `libpng` installed before building `torchvision` from source?\n",
      "  warn(\n",
      "/home/u79bece8b01d17b507a6b09a7919d56b/.local/lib/python3.9/site-packages/transformers/deepspeed.py:23: FutureWarning: transformers.deepspeed module is deprecated and will be removed in a future version. Please import deepspeed modules directly from transformers.integrations\n",
      "  warnings.warn(\n",
      "/home/u79bece8b01d17b507a6b09a7919d56b/.local/lib/python3.9/site-packages/huggingface_hub/file_download.py:1132: FutureWarning: `resume_download` is deprecated and will be removed in version 1.0.0. Downloads always resume when possible. If you want to force a new download, use `force_download=True`.\n",
      "  warnings.warn(\n"
     ]
    },
    {
     "name": "stdout",
     "output_type": "stream",
     "text": [
      "Loading model Intel/neural-chat-7b-v3-1\n"
     ]
    },
    {
     "data": {
      "application/vnd.jupyter.widget-view+json": {
       "model_id": "2884a7b2e25c4e8690c2ebb119ab75f0",
       "version_major": 2,
       "version_minor": 0
      },
      "text/plain": [
       "config.json:   0%|          | 0.00/625 [00:00<?, ?B/s]"
      ]
     },
     "metadata": {},
     "output_type": "display_data"
    },
    {
     "data": {
      "application/vnd.jupyter.widget-view+json": {
       "model_id": "953b5fbeadb04f198a5807cbb1e68cc6",
       "version_major": 2,
       "version_minor": 0
      },
      "text/plain": [
       "tokenizer_config.json:   0%|          | 0.00/953 [00:00<?, ?B/s]"
      ]
     },
     "metadata": {},
     "output_type": "display_data"
    },
    {
     "data": {
      "application/vnd.jupyter.widget-view+json": {
       "model_id": "40796e54ef244b2c9ed7c94f934e86bc",
       "version_major": 2,
       "version_minor": 0
      },
      "text/plain": [
       "tokenizer.model:   0%|          | 0.00/493k [00:00<?, ?B/s]"
      ]
     },
     "metadata": {},
     "output_type": "display_data"
    },
    {
     "data": {
      "application/vnd.jupyter.widget-view+json": {
       "model_id": "4a4de76d70ec454692480c9500392c0b",
       "version_major": 2,
       "version_minor": 0
      },
      "text/plain": [
       "tokenizer.json:   0%|          | 0.00/1.80M [00:00<?, ?B/s]"
      ]
     },
     "metadata": {},
     "output_type": "display_data"
    },
    {
     "data": {
      "application/vnd.jupyter.widget-view+json": {
       "model_id": "6ed99b5ca44f4f51a8604565d21f794e",
       "version_major": 2,
       "version_minor": 0
      },
      "text/plain": [
       "special_tokens_map.json:   0%|          | 0.00/145 [00:00<?, ?B/s]"
      ]
     },
     "metadata": {},
     "output_type": "display_data"
    },
    {
     "data": {
      "application/vnd.jupyter.widget-view+json": {
       "model_id": "7aa459451b8b4b58870af009d1d9085b",
       "version_major": 2,
       "version_minor": 0
      },
      "text/plain": [
       "model.safetensors.index.json:   0%|          | 0.00/25.1k [00:00<?, ?B/s]"
      ]
     },
     "metadata": {},
     "output_type": "display_data"
    },
    {
     "data": {
      "application/vnd.jupyter.widget-view+json": {
       "model_id": "307cc136340a45b1b3436d1d3b2be20c",
       "version_major": 2,
       "version_minor": 0
      },
      "text/plain": [
       "Downloading shards:   0%|          | 0/2 [00:00<?, ?it/s]"
      ]
     },
     "metadata": {},
     "output_type": "display_data"
    },
    {
     "data": {
      "application/vnd.jupyter.widget-view+json": {
       "model_id": "31776fbd4353402eb5e1c7ec5eaa068c",
       "version_major": 2,
       "version_minor": 0
      },
      "text/plain": [
       "model-00001-of-00002.safetensors:   0%|          | 0.00/9.94G [00:00<?, ?B/s]"
      ]
     },
     "metadata": {},
     "output_type": "display_data"
    },
    {
     "data": {
      "application/vnd.jupyter.widget-view+json": {
       "model_id": "6a872ee293f347538cc096dccfad66b0",
       "version_major": 2,
       "version_minor": 0
      },
      "text/plain": [
       "model-00002-of-00002.safetensors:   0%|          | 0.00/4.54G [00:00<?, ?B/s]"
      ]
     },
     "metadata": {},
     "output_type": "display_data"
    },
    {
     "data": {
      "application/vnd.jupyter.widget-view+json": {
       "model_id": "857ce932c1914c13a5d57300d96246a6",
       "version_major": 2,
       "version_minor": 0
      },
      "text/plain": [
       "Loading checkpoint shards:   0%|          | 0/2 [00:00<?, ?it/s]"
      ]
     },
     "metadata": {},
     "output_type": "display_data"
    },
    {
     "data": {
      "application/vnd.jupyter.widget-view+json": {
       "model_id": "88fce288ab694bb48182acc933660759",
       "version_major": 2,
       "version_minor": 0
      },
      "text/plain": [
       "generation_config.json:   0%|          | 0.00/111 [00:00<?, ?B/s]"
      ]
     },
     "metadata": {},
     "output_type": "display_data"
    },
    {
     "name": "stdout",
     "output_type": "stream",
     "text": [
      "The Intel Xeon Scalable Processors represent a family of high-performance central processing units (CPUs) designed for data centers, cloud computing, and other demanding workloads. These processors offer significant improvements in performance, efficiency, and scalability compared to their predecessors. They feature advanced technologies such as Intel Advanced Vector Extensions 512 (AVX-512), Intel Turbo Boost Technology 2.0, and Intel Hyper-Threading Technology, which contribute to increased throughput and reduced latency. Additionally, they support various memory configurations, including DDR4, DDR3L, and RDIMMs, allowing them to adapt to diverse server architectures. Overall, the Intel Xeon Scalable Processors provide powerful solutions for handling complex tasks and delivering exceptional performance in today's modern computing environments. интел интел интел интел интел интел интел интел интел интел интел интел интел интел интел интел интел интел интел интел интел интел интел интел интел интел интел интел интел интел интел интел интел интел интел интел интел интел\n"
     ]
    }
   ],
   "source": [
    "# BF16 Optimization\n",
    "from intel_extension_for_transformers.neural_chat import build_chatbot, PipelineConfig\n",
    "from intel_extension_for_transformers.transformers import MixedPrecisionConfig\n",
    "config = PipelineConfig(optimization_config=MixedPrecisionConfig())\n",
    "chatbot = build_chatbot(config)\n",
    "response = chatbot.predict(query=\"Tell me about Intel Xeon Scalable Processors.\")\n",
    "print(response)\n"
   ]
  },
  {
   "cell_type": "markdown",
   "metadata": {},
   "source": [
    "## Text Chat With Retrieval Plugin"
   ]
  },
  {
   "cell_type": "markdown",
   "metadata": {},
   "source": [
    "User could also leverage NeuralChat Retrieval plugin to do domain specific chat by feding with some documents like below:"
   ]
  },
  {
   "cell_type": "code",
   "execution_count": null,
   "metadata": {},
   "outputs": [],
   "source": [
    "%cd ./intel-extension-for-transformers/intel_extension_for_transformers/neural_chat/pipeline/plugins/retrieval/\n",
    "!pip install -r requirements.txt\n",
    "%cd ../../../../../../"
   ]
  },
  {
   "cell_type": "code",
   "execution_count": null,
   "metadata": {},
   "outputs": [],
   "source": [
    "!mkdir docs\n",
    "%cd docs\n",
    "!curl -OL https://raw.githubusercontent.com/intel/intel-extension-for-transformers/main/intel_extension_for_transformers/neural_chat/assets/docs/sample.jsonl\n",
    "!curl -OL https://raw.githubusercontent.com/intel/intel-extension-for-transformers/main/intel_extension_for_transformers/neural_chat/assets/docs/sample.txt\n",
    "!curl -OL https://raw.githubusercontent.com/intel/intel-extension-for-transformers/main/intel_extension_for_transformers/neural_chat/assets/docs/sample.xlsx\n",
    "%cd .."
   ]
  },
  {
   "cell_type": "code",
   "execution_count": null,
   "metadata": {},
   "outputs": [],
   "source": [
    "from intel_extension_for_transformers.neural_chat import PipelineConfig\n",
    "from intel_extension_for_transformers.neural_chat import build_chatbot\n",
    "from intel_extension_for_transformers.neural_chat import plugins\n",
    "plugins.retrieval.enable=True\n",
    "plugins.retrieval.args[\"input_path\"]=\"./docs/\"\n",
    "config = PipelineConfig(plugins=plugins)\n",
    "chatbot = build_chatbot(config)\n",
    "response = chatbot.predict(\"How many cores does the Intel® Xeon® Platinum 8480+ Processor have in total?\")\n",
    "print(response)"
   ]
  },
  {
   "cell_type": "markdown",
   "metadata": {},
   "source": [
    "# Low Precision Optimization"
   ]
  },
  {
   "cell_type": "markdown",
   "metadata": {},
   "source": [
    "## BF16"
   ]
  },
  {
   "cell_type": "code",
   "execution_count": null,
   "metadata": {},
   "outputs": [],
   "source": [
    "# BF16 Optimization\n",
    "from intel_extension_for_transformers.neural_chat.config import PipelineConfig\n",
    "from intel_extension_for_transformers.transformers import MixedPrecisionConfig\n",
    "config = PipelineConfig(optimization_config=MixedPrecisionConfig())\n",
    "chatbot = build_chatbot(config)\n",
    "response = chatbot.predict(query=\"Tell me about Intel Xeon Scalable Processors.\")\n",
    "print(response)"
   ]
  }
 ],
 "metadata": {
  "kernelspec": {
   "display_name": "Base",
   "language": "python",
   "name": "base"
  },
  "language_info": {
   "codemirror_mode": {
    "name": "ipython",
    "version": 3
   },
   "file_extension": ".py",
   "mimetype": "text/x-python",
   "name": "python",
   "nbconvert_exporter": "python",
   "pygments_lexer": "ipython3",
   "version": "3.9.18"
  }
 },
 "nbformat": 4,
 "nbformat_minor": 4
}
